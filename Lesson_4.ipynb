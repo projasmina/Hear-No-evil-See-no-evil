{
  "nbformat": 4,
  "nbformat_minor": 0,
  "metadata": {
    "colab": {
      "provenance": [],
      "authorship_tag": "ABX9TyMWg6Ru/ZXQV7cjmqNLrd/Q",
      "include_colab_link": true
    },
    "kernelspec": {
      "name": "python3",
      "display_name": "Python 3"
    },
    "language_info": {
      "name": "python"
    }
  },
  "cells": [
    {
      "cell_type": "markdown",
      "metadata": {
        "id": "view-in-github",
        "colab_type": "text"
      },
      "source": [
        "<a href=\"https://colab.research.google.com/github/projasmina/Hear-No-evil-See-no-evil/blob/main/Lesson_4.ipynb\" target=\"_parent\"><img src=\"https://colab.research.google.com/assets/colab-badge.svg\" alt=\"Open In Colab\"/></a>"
      ]
    },
    {
      "cell_type": "code",
      "execution_count": 3,
      "metadata": {
        "colab": {
          "base_uri": "https://localhost:8080/"
        },
        "id": "x_bnKIaKkKmT",
        "outputId": "1ad139d1-2c09-44cd-98bd-a04e22cdb12b"
      },
      "outputs": [
        {
          "output_type": "stream",
          "name": "stdout",
          "text": [
            "Sum is: 4\n",
            "Difference is: 9122116\n",
            "Product is: 65861\n",
            "Quotient is: 21.0\n",
            "Remainder is: 3\n",
            "Exponential is: 4\n",
            "Floor division is: 4\n",
            "Sum is: 204\n",
            "Difference is: 36\n",
            "Product is: 10080\n",
            "Quotient is: 1.4285714285714286\n",
            "Remainder is: 36\n",
            "Exponential is: 4479449738824572412727550286824468878453557499629215098162374937031765406663147250239143936000000000000000000000000000000000000000000000000000000000000000000000000000000000000\n",
            "Floor division is: 1\n"
          ]
        }
      ],
      "source": [
        "# Please provide a short description of how operator precedence works with arithmetic expressions.\n",
        "# Make sure to include a code example of arithmetic expressions and explain how the code utilizes\n",
        "# operator precedence when computing the arithmetic expressions.\n",
        "\n",
        "# What are Arithmetic Expressions?\n",
        "# - A branch of mathematics that involves the study of numbers and the operations of numbers\n",
        "\n",
        "# + Addition\n",
        "# - Subtraction\n",
        "# * Multiplication\n",
        "# / Division\n",
        "# % Modulus\n",
        "# * * Exponentation\n",
        "# // Floor Division\n",
        "\n",
        "sum = 2 + 2\n",
        "difference = 9_123_421 - 1_305\n",
        "product = 67 * 983\n",
        "quotient = 189 / 9\n",
        "remainder = 183 % 9\n",
        "exponential = 2**2\n",
        "floor_division = 9 // 2\n",
        "\n",
        "print (\"Sum is:\", sum)\n",
        "print(\"Difference is:\", difference)\n",
        "print(\"Product is:\", product)\n",
        "print(\"Quotient is:\", quotient)\n",
        "print(\"Remainder is:\", remainder)\n",
        "print(\"Exponential is:\", exponential)\n",
        "print(\"Floor division is:\", floor_division)\n",
        "\n",
        "# Example 2\n",
        "num1 = 120\n",
        "num2 = 84\n",
        "\n",
        "sum_2 = num1 + num2\n",
        "difference_2 = num1 - num2\n",
        "product_2 = num1 * num2\n",
        "quotient_2 = num1 / num2\n",
        "remainder_2 = num1 % num2\n",
        "exponential_2 = num1**num2\n",
        "floor_division_2 = num1 // num2\n",
        "\n",
        "\n"
      ]
    },
    {
      "cell_type": "code",
      "source": [
        "#Example 2\n",
        "num1 = 7043\n",
        "num2 = 672\n",
        "\n",
        "sum_2 = num1 + num2\n",
        "difference_2 = num1 - num2\n",
        "product_2 = num1 * num2\n",
        "quotient_2 = num1 / num2\n",
        "remainder_2 = num1 % num2\n",
        "exponential_2 = num1**num2\n",
        "floor_division_2 = num1 // num2\n",
        "\n",
        "print(\"Sum is:\", sum_2)\n",
        "print(\"Difference is:\", difference_2)\n",
        "print(\"Product is:\", product_2)\n",
        "print(\"Quotient is:\", quotient_2)\n",
        "print(\"Remainder is:\", remainder_2)\n",
        "print(\"Exponential is:\", exponential_2)\n",
        "print(\"Floor division is:\", floor_division_2)"
      ],
      "metadata": {
        "colab": {
          "base_uri": "https://localhost:8080/"
        },
        "id": "owqDfsb7qf9V",
        "outputId": "f5e8371b-cfe6-43c0-c9e3-c84ba69da952"
      },
      "execution_count": 4,
      "outputs": [
        {
          "output_type": "stream",
          "name": "stdout",
          "text": [
            "Sum is: 7715\n",
            "Difference is: 6371\n",
            "Product is: 4732896\n",
            "Quotient is: 10.480654761904763\n",
            "Remainder is: 323\n",
            "Exponential is: 493363026581713391423611430483983388417430509308515814289082375024601191600212027743752531266346824620723852259850188216299638023994449835366310999154754914700015619401647185377186928216831350515572948602409571735312546568804442951913911204591842165551821922436336905666398196577261660033324765670577672408444056804729307071498096424038781254323251452265497536954274455485083463376264473649804054254035922648056764356877094144651818834658127722210650535558045428496735959343680312957819256785814467561196781617342810038767033064242869176356835379851558384392755751383592217514274385679014555980334685864987234517714124595425787071662564690638091513046515808615737320359941125956913764316104981234492871205012791341106983145736569048492299453683299650632257058223879737502436441215602368393616792128114658924496381262714386358059802162268826103851495800543914068390151511244079608317809221637852402673451919705257017944496984631749862426628159990896277475976447901594295132405854923005560135435020423195784821381937168078178902007818450606060335925376473603003874651870424167896459356671599525204764840097772595834346436690591219700682242489211302155960149786875834493029727090373782732979384347920682290044537243652158081692652143083295694016759216896756482018317098919015192543696137208995333652069206616944426554968723055645294189449988474918294105310955908866224353163336285727057632913751918363958084243078051555210623716150291916408727908870063446270880968792345517256261603830390646747016109705424425870580628945891286636733303787872589893230505192233155784056800679689809813141948099616879851782759500104023832496376797265289181733958282387643315250407629833360744685076373499621905541874601441446261552305107693540039230500702975149332630367550893385279679019282545774267877122488249723814969595124432100901683551238175266593486039444260523586067109032388814126789746583158938740703692110178141040796383609047596926054009061312407553456568100986393908723072629457799244048072651886552526306040390984947914619062799274561259800196323598459913688312929405697437970172231648661318018527591352606991190834950571776727700328439892601097013842657445533358097447824074844993309098814269085114094070188872410735699403733387378462790223584581171752871157613780720588147786791839962671435789791674402584435102659819315038636901571768008512328118226035093628852354267549985898249598393682162230080726445483571443524170128145497089316938829000895251416072637633833230130258458290177583091183854980901235660759992698651987726763425651011239793179101281100569989798580349574839227033428406401\n",
            "Floor division is: 10\n"
          ]
        }
      ]
    }
  ]
}